{
  "nbformat": 4,
  "nbformat_minor": 0,
  "metadata": {
    "colab": {
      "provenance": []
    },
    "kernelspec": {
      "name": "python3",
      "display_name": "Python 3"
    },
    "language_info": {
      "name": "python"
    }
  },
  "cells": [
    {
      "cell_type": "code",
      "execution_count": null,
      "metadata": {
        "id": "rHVGwot9JKN-"
      },
      "outputs": [],
      "source": [
        "def create_transparent_layered_image(frames):\n",
        "    if not frames:\n",
        "        return None\n",
        "    layered_image = np.zeros_like(frames[0], dtype=np.float32)\n",
        "    #go through frames\n",
        "    for frame in frames:\n",
        "        layered_image += frame.astype(np.float32) * (1.0/len(frames)) #creating transparency per frame\n",
        "    layered_image = np.clip(layered_image,0,255).astype(np.uint8)\n",
        "    return layered_image"
      ]
    },
    {
      "cell_type": "code",
      "source": [
        "  #referenced: https://pytorch.org/vision/0.9/transforms.html\n",
        "  augtransform = transforms.Compose([\n",
        "    transforms.RandomHorizontalFlip(),  # Optional, depending on the task\n",
        "    transforms.RandomRotation(10),      # Optional, depending on the task\n",
        "    transforms.Normalize(mean=[0.5, 0.5, 0.5], std=[0.5, 0.5, 0.5])  # Usually necessary\n",
        "])\n",
        "  augtransform2 = transforms.Compose([transforms.RandomHorizontalFlip(),\n",
        "        transforms.RandomRotation(10),transforms.RandomAffine(10, translate=(0.1, 0.1)),\n",
        "        transforms.ColorJitter(brightness=0.2, contrast=0.2),transforms.Normalize(mean=[0.5, 0.5, 0.5], std=[0.5, 0.5, 0.5])\n",
        "    ])"
      ],
      "metadata": {
        "id": "oyoK55NQZ_fE"
      },
      "execution_count": null,
      "outputs": []
    }
  ]
}